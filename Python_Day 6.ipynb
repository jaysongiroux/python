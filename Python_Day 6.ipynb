{
 "cells": [
  {
   "cell_type": "code",
   "execution_count": null,
   "metadata": {},
   "outputs": [],
   "source": [
    "for i in range(1,10,3):\n",
    "    if i==6:\n",
    "        break\n",
    "        print(i)    \n",
    "    else:\n",
    "        print(i)"
   ]
  },
  {
   "cell_type": "code",
   "execution_count": null,
   "metadata": {},
   "outputs": [],
   "source": [
    "for i in range(1,10,3):\n",
    "    if i==7:\n",
    "        break\n",
    "        print(i)\n",
    "else:\n",
    "    print(x)"
   ]
  },
  {
   "cell_type": "code",
   "execution_count": null,
   "metadata": {},
   "outputs": [],
   "source": [
    "range(10)"
   ]
  },
  {
   "cell_type": "code",
   "execution_count": null,
   "metadata": {},
   "outputs": [],
   "source": [
    "print(range(10))"
   ]
  },
  {
   "cell_type": "code",
   "execution_count": null,
   "metadata": {},
   "outputs": [],
   "source": [
    "print(dict(range(10)))"
   ]
  },
  {
   "cell_type": "code",
   "execution_count": null,
   "metadata": {},
   "outputs": [],
   "source": [
    "for i in range(5):\n",
    "    print(\"pramod\")"
   ]
  },
  {
   "cell_type": "code",
   "execution_count": null,
   "metadata": {},
   "outputs": [],
   "source": [
    "for x in range(1):\n",
    "    print(\"welcome\")\n",
    "    print(\"*********\")\n",
    "    print(x)"
   ]
  },
  {
   "cell_type": "code",
   "execution_count": null,
   "metadata": {},
   "outputs": [],
   "source": [
    "for i in range(0,5):\n",
    "    if i==6:\n",
    "        break\n",
    "    print(i)\n",
    "else:   \n",
    "    print(\"Hii im else block\")\n",
    "    print('i in else: ',i)"
   ]
  },
  {
   "cell_type": "code",
   "execution_count": null,
   "metadata": {},
   "outputs": [],
   "source": [
    "pylist=[1,2,3,4,5]\n",
    "\n",
    "for y in pylist:\n",
    "    if y==4:\n",
    "        break\n",
    "    print(y)\n",
    "    \n",
    "else:\n",
    "    print(\"im in else block\")\n",
    "    print(\"Value of y: \",y)"
   ]
  },
  {
   "cell_type": "code",
   "execution_count": null,
   "metadata": {
    "scrolled": true
   },
   "outputs": [],
   "source": [
    "a=int(input(\"Enter 1st no:\"))\n",
    "b=int(input(\"Enter 2nd no:\"))\n",
    "c=int(input(\"Enter 3rd no:\"))\n",
    "print(\"a:{0},b:{1},c:{2}\".format(a,b,c))\n",
    "print(\"a:{0},b:{1},c:{2}\".format(c,a,b))"
   ]
  },
  {
   "cell_type": "code",
   "execution_count": null,
   "metadata": {
    "scrolled": true
   },
   "outputs": [],
   "source": [
    "a=10\n",
    "b=20\n",
    "c=30\n",
    "a,b,c=c,b,a\n",
    "print(a,b,c)"
   ]
  },
  {
   "cell_type": "code",
   "execution_count": null,
   "metadata": {},
   "outputs": [],
   "source": [
    "#python loop control statement\n",
    "#1.break, 2.continue"
   ]
  },
  {
   "cell_type": "code",
   "execution_count": null,
   "metadata": {},
   "outputs": [],
   "source": [
    "tuple = (10,20,30,40,50)\n",
    "for p in tuple:\n",
    "    \n",
    "    if p==30:\n",
    "        print(\"if Block\",p)\n",
    "        \n",
    "    else:\n",
    "        \n",
    "        print(\"else block\",p)\n",
    "        break\n",
    "else:\n",
    "    print(\"for else block\")"
   ]
  },
  {
   "cell_type": "code",
   "execution_count": null,
   "metadata": {},
   "outputs": [],
   "source": [
    "list = [1,2,3,4,5]\n",
    "for i in list:\n",
    "    if i!=3:\n",
    "        \n",
    "        print(\"if block\",i)\n",
    "    else:\n",
    "        continue\n",
    "        print(\"else Block\",i)"
   ]
  },
  {
   "cell_type": "code",
   "execution_count": 2,
   "metadata": {
    "scrolled": true
   },
   "outputs": [
    {
     "name": "stdout",
     "output_type": "stream",
     "text": [
      "0\n",
      "1\n",
      "2\n",
      "3\n",
      "4\n",
      "5\n",
      ".... 6\n"
     ]
    }
   ],
   "source": [
    "#Python While Loop Sttaement\n",
    "i=0\n",
    "while i<=5:\n",
    "    print(i)\n",
    "    i+=1                        #i=i+1\n",
    "    \n",
    "print(\"....\",i)"
   ]
  },
  {
   "cell_type": "code",
   "execution_count": 9,
   "metadata": {},
   "outputs": [
    {
     "name": "stdout",
     "output_type": "stream",
     "text": [
      "0\n",
      "1\n",
      "2\n"
     ]
    }
   ],
   "source": [
    "for i in range(3):\n",
    "    print(i)"
   ]
  },
  {
   "cell_type": "code",
   "execution_count": 6,
   "metadata": {},
   "outputs": [
    {
     "name": "stdout",
     "output_type": "stream",
     "text": [
      "0 0\n",
      "0 1\n",
      "1 0\n",
      "1 1\n",
      "2 0\n",
      "2 1\n"
     ]
    }
   ],
   "source": [
    "for i in range(3):\n",
    "    for j in range(2):\n",
    "        print(i,j)"
   ]
  }
 ],
 "metadata": {
  "kernelspec": {
   "display_name": "Python 3",
   "language": "python",
   "name": "python3"
  },
  "language_info": {
   "codemirror_mode": {
    "name": "ipython",
    "version": 3
   },
   "file_extension": ".py",
   "mimetype": "text/x-python",
   "name": "python",
   "nbconvert_exporter": "python",
   "pygments_lexer": "ipython3",
   "version": "3.7.3"
  }
 },
 "nbformat": 4,
 "nbformat_minor": 2
}
